{
  "nbformat": 4,
  "nbformat_minor": 0,
  "metadata": {
    "kernelspec": {
      "display_name": "Python 3",
      "language": "python",
      "name": "python3"
    },
    "language_info": {
      "codemirror_mode": {
        "name": "ipython",
        "version": 3
      },
      "file_extension": ".py",
      "mimetype": "text/x-python",
      "name": "python",
      "nbconvert_exporter": "python",
      "pygments_lexer": "ipython3",
      "version": "3.7.3"
    },
    "colab": {
      "name": "TextAnalyticsTutorial.ipynb",
      "provenance": [],
      "toc_visible": true,
      "include_colab_link": true
    }
  },
  "cells": [
    {
      "cell_type": "markdown",
      "metadata": {
        "id": "view-in-github",
        "colab_type": "text"
      },
      "source": [
        "<a href=\"https://colab.research.google.com/github/tapilab/text-analytics-tutorial/blob/master/TextAnalyticsTutorial.ipynb\" target=\"_parent\"><img src=\"https://colab.research.google.com/assets/colab-badge.svg\" alt=\"Open In Colab\"/></a>"
      ]
    },
    {
      "cell_type": "markdown",
      "metadata": {
        "id": "q-jvzSF48SGc",
        "colab_type": "text"
      },
      "source": [
        "# Text Analytics Tutorial\n",
        "**Aron Culotta**  \n",
        "**Associate Professor of Computer Science**  \n",
        "**Illinois Institute of Technology**  \n",
        "*November 13, 2019*"
      ]
    },
    {
      "cell_type": "markdown",
      "metadata": {
        "id": "HqH7s6RYKQ-9",
        "colab_type": "text"
      },
      "source": [
        "## Survey of text analysis problems\n",
        "\n",
        "First, let's look at an overview of a range of text analysis tasks."
      ]
    },
    {
      "cell_type": "markdown",
      "metadata": {
        "id": "J3WKNo0WNx2D",
        "colab_type": "text"
      },
      "source": [
        "Now, we'll look in more depth at two common text analysis tasks: classification and clustering."
      ]
    },
    {
      "cell_type": "markdown",
      "metadata": {
        "id": "2pF7eApTKWLm",
        "colab_type": "text"
      },
      "source": [
        "## Classification"
      ]
    },
    {
      "cell_type": "markdown",
      "metadata": {
        "id": "LKje0do9K3dw",
        "colab_type": "text"
      },
      "source": [
        "### Read data"
      ]
    },
    {
      "cell_type": "code",
      "metadata": {
        "id": "NLYZuS5WoaYz",
        "colab_type": "code",
        "colab": {
          "base_uri": "https://localhost:8080/",
          "height": 34
        },
        "cellView": "form",
        "outputId": "3a12637e-05a0-4e68-8e5f-c593e3dc5d82"
      },
      "source": [
        "# @title Load the keras models\n",
        "print('hi there')"
      ],
      "execution_count": 8,
      "outputs": [
        {
          "output_type": "stream",
          "text": [
            "hi there\n"
          ],
          "name": "stdout"
        }
      ]
    },
    {
      "cell_type": "markdown",
      "metadata": {
        "id": "xw2KkGZ6K7Re",
        "colab_type": "text"
      },
      "source": [
        "### Preprocessing"
      ]
    },
    {
      "cell_type": "markdown",
      "metadata": {
        "id": "6Fe00v6HL_38",
        "colab_type": "text"
      },
      "source": [
        ""
      ]
    },
    {
      "cell_type": "markdown",
      "metadata": {
        "id": "8ye4y_EBK_zh",
        "colab_type": "text"
      },
      "source": [
        "### Feature engineering"
      ]
    },
    {
      "cell_type": "markdown",
      "metadata": {
        "id": "NW5cMIMbLN7E",
        "colab_type": "text"
      },
      "source": [
        "### Training"
      ]
    },
    {
      "cell_type": "markdown",
      "metadata": {
        "id": "qp6EohkvLZJ6",
        "colab_type": "text"
      },
      "source": [
        "### Evaluation"
      ]
    },
    {
      "cell_type": "markdown",
      "metadata": {
        "id": "quxAjfDXLgZc",
        "colab_type": "text"
      },
      "source": [
        "### Error analysis"
      ]
    },
    {
      "cell_type": "code",
      "metadata": {
        "id": "JkG9u9K9Ljy_",
        "colab_type": "code",
        "colab": {}
      },
      "source": [
        ""
      ],
      "execution_count": 0,
      "outputs": []
    },
    {
      "cell_type": "code",
      "metadata": {
        "id": "mqdC_B1OLFwX",
        "colab_type": "code",
        "colab": {}
      },
      "source": [
        ""
      ],
      "execution_count": 0,
      "outputs": []
    },
    {
      "cell_type": "markdown",
      "metadata": {
        "id": "0CKTtEPSKbJP",
        "colab_type": "text"
      },
      "source": [
        "# Clustering"
      ]
    },
    {
      "cell_type": "code",
      "metadata": {
        "id": "D8e0y0_PK0ta",
        "colab_type": "code",
        "colab": {}
      },
      "source": [
        ""
      ],
      "execution_count": 0,
      "outputs": []
    }
  ]
}