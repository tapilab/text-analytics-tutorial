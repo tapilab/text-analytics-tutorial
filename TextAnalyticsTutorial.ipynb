{
  "nbformat": 4,
  "nbformat_minor": 0,
  "metadata": {
    "kernelspec": {
      "display_name": "Python 3",
      "language": "python",
      "name": "python3"
    },
    "language_info": {
      "codemirror_mode": {
        "name": "ipython",
        "version": 3
      },
      "file_extension": ".py",
      "mimetype": "text/x-python",
      "name": "python",
      "nbconvert_exporter": "python",
      "pygments_lexer": "ipython3",
      "version": "3.7.3"
    },
    "colab": {
      "name": "TextAnalyticsTutorial.ipynb",
      "provenance": []
    }
  },
  "cells": [
    {
      "cell_type": "markdown",
      "metadata": {
        "id": "q-jvzSF48SGc",
        "colab_type": "text"
      },
      "source": [
        "# <font color=\"blue\">Text Analytics Tutorial</font>\n",
        "**Aron Culotta**  \n",
        "**Associate Professor of Computer Science**  \n",
        "**Illinois Institute of Technology**  \n",
        "*November 13, 2019*"
      ]
    },
    {
      "cell_type": "code",
      "metadata": {
        "id": "HqH7s6RYKQ-9",
        "colab_type": "code",
        "colab": {}
      },
      "source": [
        ""
      ],
      "execution_count": 0,
      "outputs": []
    },
    {
      "cell_type": "markdown",
      "metadata": {
        "id": "2pF7eApTKWLm",
        "colab_type": "text"
      },
      "source": [
        "# Classification"
      ]
    },
    {
      "cell_type": "markdown",
      "metadata": {
        "id": "0CKTtEPSKbJP",
        "colab_type": "text"
      },
      "source": [
        "# Clustering"
      ]
    }
  ]
}